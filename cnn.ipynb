{
 "cells": [
  {
   "cell_type": "markdown",
   "metadata": {},
   "source": [
    "# Dependências"
   ]
  },
  {
   "cell_type": "code",
   "execution_count": 2,
   "metadata": {},
   "outputs": [
    {
     "name": "stderr",
     "output_type": "stream",
     "text": [
      "c:\\Python312\\Lib\\site-packages\\tqdm\\auto.py:21: TqdmWarning: IProgress not found. Please update jupyter and ipywidgets. See https://ipywidgets.readthedocs.io/en/stable/user_install.html\n",
      "  from .autonotebook import tqdm as notebook_tqdm\n"
     ]
    }
   ],
   "source": [
    "from load_mnist import load_data\n",
    "import matplotlib.pyplot as plt\n",
    "from sklearn.metrics import classification_report\n",
    "\n",
    "from sklearn.metrics import confusion_matrix, ConfusionMatrixDisplay\n",
    "\n",
    "import tensorflow as tf\n",
    "\n",
    "from objectivefunc import model_function, other_params_model\n",
    "import optuna"
   ]
  },
  {
   "cell_type": "markdown",
   "metadata": {},
   "source": [
    "# Modelo Inicial"
   ]
  },
  {
   "cell_type": "code",
   "execution_count": 3,
   "metadata": {},
   "outputs": [],
   "source": [
    "learning_rate = 0.001\n",
    "epochs = 5\n",
    "num_classes = 10"
   ]
  },
  {
   "cell_type": "code",
   "execution_count": 4,
   "metadata": {},
   "outputs": [],
   "source": [
    "training_data, validation_data, test_data = load_data()\n",
    "training_data = list(training_data)\n",
    "test_data = list(test_data)"
   ]
  },
  {
   "cell_type": "code",
   "execution_count": 6,
   "metadata": {},
   "outputs": [],
   "source": [
    "X_train, X_test, y_train, y_test = training_data[0], test_data[0], training_data[1], test_data[1]\n",
    "\n",
    "X_train = X_train.reshape((X_train.shape[0], 28, 28, 1))\n",
    "X_test = X_test.reshape((X_test.shape[0], 28, 28, 1))"
   ]
  },
  {
   "cell_type": "code",
   "execution_count": 41,
   "metadata": {},
   "outputs": [],
   "source": [
    "model = tf.keras.Sequential([\n",
    "  tf.keras.layers.Conv2D(filters=32, kernel_size=(2, 2), activation='relu', input_shape=(28, 28, 1)),\n",
    "  tf.keras.layers.MaxPooling2D(pool_size=(2, 2)),\n",
    "  tf.keras.layers.Conv2D(filters=32, kernel_size=(2, 2), activation='relu'),\n",
    "  tf.keras.layers.MaxPooling2D(pool_size=(2, 2)),\n",
    "  tf.keras.layers.Flatten(),  \n",
    "  tf.keras.layers.Dense(units=num_classes, activation='relu'),\n",
    "  tf.keras.layers.Dense(units=num_classes, activation='softmax') \n",
    "])\n",
    "\n",
    "model.compile(loss='sparse_categorical_crossentropy',\n",
    "    optimizer=tf.keras.optimizers.Adam(learning_rate=learning_rate),\n",
    "    metrics=['accuracy'])\n"
   ]
  },
  {
   "cell_type": "code",
   "execution_count": 42,
   "metadata": {},
   "outputs": [
    {
     "name": "stdout",
     "output_type": "stream",
     "text": [
      "Epoch 1/5\n",
      "\u001b[1m1563/1563\u001b[0m \u001b[32m━━━━━━━━━━━━━━━━━━━━\u001b[0m\u001b[37m\u001b[0m \u001b[1m6s\u001b[0m 3ms/step - accuracy: 0.7599 - loss: 0.7610\n",
      "Epoch 2/5\n",
      "\u001b[1m1563/1563\u001b[0m \u001b[32m━━━━━━━━━━━━━━━━━━━━\u001b[0m\u001b[37m\u001b[0m \u001b[1m5s\u001b[0m 3ms/step - accuracy: 0.9585 - loss: 0.1325\n",
      "Epoch 3/5\n",
      "\u001b[1m1563/1563\u001b[0m \u001b[32m━━━━━━━━━━━━━━━━━━━━\u001b[0m\u001b[37m\u001b[0m \u001b[1m5s\u001b[0m 3ms/step - accuracy: 0.9702 - loss: 0.0917\n",
      "Epoch 4/5\n",
      "\u001b[1m1563/1563\u001b[0m \u001b[32m━━━━━━━━━━━━━━━━━━━━\u001b[0m\u001b[37m\u001b[0m \u001b[1m5s\u001b[0m 3ms/step - accuracy: 0.9789 - loss: 0.0699\n",
      "Epoch 5/5\n",
      "\u001b[1m1563/1563\u001b[0m \u001b[32m━━━━━━━━━━━━━━━━━━━━\u001b[0m\u001b[37m\u001b[0m \u001b[1m5s\u001b[0m 3ms/step - accuracy: 0.9795 - loss: 0.0643\n"
     ]
    },
    {
     "data": {
      "text/plain": [
       "<keras.src.callbacks.history.History at 0x172e1a243e0>"
      ]
     },
     "execution_count": 42,
     "metadata": {},
     "output_type": "execute_result"
    }
   ],
   "source": [
    "model.fit(X_train, y_train, epochs=epochs)"
   ]
  },
  {
   "cell_type": "code",
   "execution_count": 43,
   "metadata": {},
   "outputs": [
    {
     "name": "stdout",
     "output_type": "stream",
     "text": [
      "\u001b[1m313/313\u001b[0m \u001b[32m━━━━━━━━━━━━━━━━━━━━\u001b[0m\u001b[37m\u001b[0m \u001b[1m1s\u001b[0m 2ms/step - accuracy: 0.9762 - loss: 0.0708\n",
      "Test Accuracy: 0.9811999797821045\n"
     ]
    }
   ],
   "source": [
    "test_loss, test_acc = model.evaluate(X_test, y_test)\n",
    "print('Test Accuracy:', test_acc)"
   ]
  },
  {
   "cell_type": "code",
   "execution_count": 44,
   "metadata": {},
   "outputs": [
    {
     "name": "stdout",
     "output_type": "stream",
     "text": [
      "\u001b[1m313/313\u001b[0m \u001b[32m━━━━━━━━━━━━━━━━━━━━\u001b[0m\u001b[37m\u001b[0m \u001b[1m1s\u001b[0m 2ms/step\n",
      "Accuracy for class 0: 0.9929\n",
      "Accuracy for class 1: 0.9921\n",
      "Accuracy for class 2: 0.9835\n",
      "Accuracy for class 3: 0.9733\n",
      "Accuracy for class 4: 0.9786\n",
      "Accuracy for class 5: 0.9809\n",
      "Accuracy for class 6: 0.9864\n",
      "Accuracy for class 7: 0.9805\n",
      "Accuracy for class 8: 0.9743\n",
      "Accuracy for class 9: 0.9683\n"
     ]
    }
   ],
   "source": [
    "predictions = model.predict(X_test)\n",
    "\n",
    "predicted_labels = predictions.argmax(axis=1)\n",
    "\n",
    "cm = confusion_matrix(y_test, predicted_labels)\n",
    "\n",
    "for i in range(num_classes):\n",
    "  accuracy = cm[i, i] / cm[i, :].sum()\n",
    "  print(f\"Accuracy for class {i}: {accuracy:.4f}\")"
   ]
  },
  {
   "cell_type": "code",
   "execution_count": 45,
   "metadata": {},
   "outputs": [
    {
     "name": "stdout",
     "output_type": "stream",
     "text": [
      "              precision    recall  f1-score   support\n",
      "\n",
      "           0       0.97      0.99      0.98       980\n",
      "           1       0.99      0.99      0.99      1135\n",
      "           2       0.98      0.98      0.98      1032\n",
      "           3       0.99      0.97      0.98      1010\n",
      "           4       0.99      0.98      0.98       982\n",
      "           5       0.98      0.98      0.98       892\n",
      "           6       0.98      0.99      0.98       958\n",
      "           7       0.98      0.98      0.98      1028\n",
      "           8       0.97      0.97      0.97       974\n",
      "           9       0.99      0.97      0.98      1009\n",
      "\n",
      "    accuracy                           0.98     10000\n",
      "   macro avg       0.98      0.98      0.98     10000\n",
      "weighted avg       0.98      0.98      0.98     10000\n",
      "\n"
     ]
    }
   ],
   "source": [
    "predicted_labels = predictions.argmax(axis=1)\n",
    "\n",
    "report = classification_report(y_test, predicted_labels)\n",
    "print(report)"
   ]
  },
  {
   "cell_type": "code",
   "execution_count": 46,
   "metadata": {},
   "outputs": [
    {
     "data": {
      "image/png": "[encoded data removed]",
      "text/plain": [
       "<Figure size 640x480 with 2 Axes>"
      ]
     },
     "metadata": {},
     "output_type": "display_data"
    }
   ],
   "source": [
    "disp = ConfusionMatrixDisplay(confusion_matrix=cm)\n",
    "disp.plot()\n",
    "plt.title('Matriz de Confusão - Modelo 1')\n",
    "plt.show()\n"
   ]
  },
  {
   "cell_type": "markdown",
   "metadata": {},
   "source": [
    "# Otimização de parâmetros com Optuna"
   ]
  },
  {
   "cell_type": "markdown",
   "metadata": {},
   "source": [
    "#### Estudo 1: Learning Rate, Epochs, Batch Size, No. of filters, Dense Units"
   ]
  },
  {
   "cell_type": "code",
   "execution_count": null,
   "metadata": {},
   "outputs": [
    {
     "name": "stderr",
     "output_type": "stream",
     "text": [
      "[I 2024-05-20 23:14:39,412] A new study created in memory with name: no-name-68045c57-fcb9-45a7-81b9-86ae609308b0\n",
      "[I 2024-05-20 23:16:03,898] Trial 0 finished with value: 0.9851999878883362 and parameters: {'learning_rate': 0.007949254734482034, 'epochs': 8, 'batch_size': 106, 'num_filters': 32, 'dense_units': 196}. Best is trial 0 with value: 0.9851999878883362.\n",
      "[I 2024-05-20 23:32:30,732] Trial 1 finished with value: 0.9907000064849854 and parameters: {'learning_rate': 0.0011090093878667155, 'epochs': 14, 'batch_size': 44, 'num_filters': 128, 'dense_units': 167}. Best is trial 1 with value: 0.9907000064849854.\n",
      "[I 2024-05-20 23:42:06,683] Trial 2 finished with value: 0.9901999831199646 and parameters: {'learning_rate': 0.00034388105147047066, 'epochs': 9, 'batch_size': 57, 'num_filters': 128, 'dense_units': 73}. Best is trial 1 with value: 0.9907000064849854.\n",
      "[I 2024-05-20 23:43:57,753] Trial 3 finished with value: 0.9793999791145325 and parameters: {'learning_rate': 9.426207367184762e-05, 'epochs': 5, 'batch_size': 88, 'num_filters': 64, 'dense_units': 118}. Best is trial 1 with value: 0.9907000064849854.\n",
      "[I 2024-05-20 23:45:14,343] Trial 4 finished with value: 0.9873999953269958 and parameters: {'learning_rate': 0.002818643058613451, 'epochs': 7, 'batch_size': 71, 'num_filters': 32, 'dense_units': 163}. Best is trial 1 with value: 0.9907000064849854.\n",
      "[I 2024-05-20 23:51:12,309] Trial 5 finished with value: 0.9790999889373779 and parameters: {'learning_rate': 1.9200968516406505e-05, 'epochs': 15, 'batch_size': 91, 'num_filters': 64, 'dense_units': 171}. Best is trial 1 with value: 0.9907000064849854.\n",
      "[I 2024-05-20 23:54:23,140] Trial 6 finished with value: 0.9868999719619751 and parameters: {'learning_rate': 0.009617809617115678, 'epochs': 20, 'batch_size': 87, 'num_filters': 32, 'dense_units': 108}. Best is trial 1 with value: 0.9907000064849854.\n",
      "[I 2024-05-20 23:59:34,749] Trial 7 finished with value: 0.9878000020980835 and parameters: {'learning_rate': 0.00013460820430811067, 'epochs': 13, 'batch_size': 109, 'num_filters': 64, 'dense_units': 246}. Best is trial 1 with value: 0.9907000064849854.\n",
      "[I 2024-05-21 00:11:50,152] Trial 8 finished with value: 0.9825000166893005 and parameters: {'learning_rate': 2.3669329637081025e-05, 'epochs': 11, 'batch_size': 87, 'num_filters': 128, 'dense_units': 243}. Best is trial 1 with value: 0.9907000064849854.\n",
      "[I 2024-05-21 00:15:49,578] Trial 9 finished with value: 0.9889000058174133 and parameters: {'learning_rate': 0.0012270204694292087, 'epochs': 11, 'batch_size': 97, 'num_filters': 64, 'dense_units': 138}. Best is trial 1 with value: 0.9907000064849854.\n"
     ]
    }
   ],
   "source": [
    "study = optuna.create_study(direction='maximize')\n",
    "study.optimize(other_params_model, n_trials=10)"
   ]
  },
  {
   "cell_type": "code",
   "execution_count": null,
   "metadata": {},
   "outputs": [
    {
     "name": "stdout",
     "output_type": "stream",
     "text": [
      "Trial 0:\n",
      "  - Parameters: {'learning_rate': 0.007949254734482034, 'epochs': 8, 'batch_size': 106, 'num_filters': 32, 'dense_units': 196}\n",
      "  - Metric value: 0.9851999878883362\n",
      "\n",
      "Trial 1:\n",
      "  - Parameters: {'learning_rate': 0.0011090093878667155, 'epochs': 14, 'batch_size': 44, 'num_filters': 128, 'dense_units': 167}\n",
      "  - Metric value: 0.9907000064849854\n",
      "\n",
      "Trial 2:\n",
      "  - Parameters: {'learning_rate': 0.00034388105147047066, 'epochs': 9, 'batch_size': 57, 'num_filters': 128, 'dense_units': 73}\n",
      "  - Metric value: 0.9901999831199646\n",
      "\n",
      "Trial 3:\n",
      "  - Parameters: {'learning_rate': 9.426207367184762e-05, 'epochs': 5, 'batch_size': 88, 'num_filters': 64, 'dense_units': 118}\n",
      "  - Metric value: 0.9793999791145325\n",
      "\n",
      "Trial 4:\n",
      "  - Parameters: {'learning_rate': 0.002818643058613451, 'epochs': 7, 'batch_size': 71, 'num_filters': 32, 'dense_units': 163}\n",
      "  - Metric value: 0.9873999953269958\n",
      "\n",
      "Trial 5:\n",
      "  - Parameters: {'learning_rate': 1.9200968516406505e-05, 'epochs': 15, 'batch_size': 91, 'num_filters': 64, 'dense_units': 171}\n",
      "  - Metric value: 0.9790999889373779\n",
      "\n",
      "Trial 6:\n",
      "  - Parameters: {'learning_rate': 0.009617809617115678, 'epochs': 20, 'batch_size': 87, 'num_filters': 32, 'dense_units': 108}\n",
      "  - Metric value: 0.9868999719619751\n",
      "\n",
      "Trial 7:\n",
      "  - Parameters: {'learning_rate': 0.00013460820430811067, 'epochs': 13, 'batch_size': 109, 'num_filters': 64, 'dense_units': 246}\n",
      "  - Metric value: 0.9878000020980835\n",
      "\n",
      "Trial 8:\n",
      "  - Parameters: {'learning_rate': 2.3669329637081025e-05, 'epochs': 11, 'batch_size': 87, 'num_filters': 128, 'dense_units': 243}\n",
      "  - Metric value: 0.9825000166893005\n",
      "\n",
      "Trial 9:\n",
      "  - Parameters: {'learning_rate': 0.0012270204694292087, 'epochs': 11, 'batch_size': 97, 'num_filters': 64, 'dense_units': 138}\n",
      "  - Metric value: 0.9889000058174133\n",
      "\n"
     ]
    }
   ],
   "source": [
    "for trial in study.trials:\n",
    "    print(f\"Trial {trial.number}:\")\n",
    "    print(f\"  - Parameters: {trial.params}\")\n",
    "    print(f\"  - Metric value: {trial.value}\\n\")\n"
   ]
  },
  {
   "cell_type": "markdown",
   "metadata": {},
   "source": [
    "#### Estudo 2: No. of filters, Filter size, Padding, Dropout Rate, Pool size"
   ]
  },
  {
   "cell_type": "code",
   "execution_count": null,
   "metadata": {},
   "outputs": [
    {
     "name": "stderr",
     "output_type": "stream",
     "text": [
      "[I 2024-05-21 13:20:37,117] A new study created in memory with name: no-name-9fed91ce-0f71-4911-afe7-a33ab898e959\n",
      "[I 2024-05-21 13:21:36,580] Trial 0 finished with value: 0.9804999828338623 and parameters: {'num_filters': 64, 'filter_size': 3, 'stride': 2, 'padding': 'valid', 'dropout_rate': 0.1, 'pool_size': 2}. Best is trial 0 with value: 0.9804999828338623.\n",
      "[I 2024-05-21 13:28:05,435] Trial 1 finished with value: 0.9864000082015991 and parameters: {'num_filters': 128, 'filter_size': 5, 'stride': 2, 'padding': 'same', 'dropout_rate': 0.1, 'pool_size': 3}. Best is trial 1 with value: 0.9864000082015991.\n",
      "[I 2024-05-21 13:29:37,513] Trial 2 finished with value: 0.9904000163078308 and parameters: {'num_filters': 32, 'filter_size': 5, 'stride': 1, 'padding': 'valid', 'dropout_rate': 0.1, 'pool_size': 3}. Best is trial 2 with value: 0.9904000163078308.\n",
      "[I 2024-05-21 13:53:54,913] Trial 3 finished with value: 0.9925000071525574 and parameters: {'num_filters': 128, 'filter_size': 5, 'stride': 1, 'padding': 'same', 'dropout_rate': 0.30000000000000004, 'pool_size': 3}. Best is trial 3 with value: 0.9925000071525574.\n",
      "[I 2024-05-21 13:54:43,615] Trial 4 finished with value: 0.9843999743461609 and parameters: {'num_filters': 32, 'filter_size': 3, 'stride': 2, 'padding': 'same', 'dropout_rate': 0.4, 'pool_size': 3}. Best is trial 3 with value: 0.9925000071525574.\n",
      "[I 2024-05-21 13:56:27,087] Trial 5 finished with value: 0.991100013256073 and parameters: {'num_filters': 32, 'filter_size': 3, 'stride': 1, 'padding': 'valid', 'dropout_rate': 0.4, 'pool_size': 3}. Best is trial 3 with value: 0.9925000071525574.\n",
      "[I 2024-05-21 13:59:07,874] Trial 6 finished with value: 0.991599977016449 and parameters: {'num_filters': 32, 'filter_size': 3, 'stride': 1, 'padding': 'valid', 'dropout_rate': 0.5, 'pool_size': 2}. Best is trial 3 with value: 0.9925000071525574.\n",
      "[I 2024-05-21 14:01:05,455] Trial 7 finished with value: 0.9914000034332275 and parameters: {'num_filters': 32, 'filter_size': 3, 'stride': 1, 'padding': 'same', 'dropout_rate': 0.4, 'pool_size': 3}. Best is trial 3 with value: 0.9925000071525574.\n",
      "[I 2024-05-21 14:01:53,439] Trial 8 finished with value: 0.9642999768257141 and parameters: {'num_filters': 64, 'filter_size': 3, 'stride': 2, 'padding': 'valid', 'dropout_rate': 0.5, 'pool_size': 3}. Best is trial 3 with value: 0.9925000071525574.\n",
      "[I 2024-05-21 14:06:24,686] Trial 9 finished with value: 0.9915000200271606 and parameters: {'num_filters': 64, 'filter_size': 3, 'stride': 1, 'padding': 'valid', 'dropout_rate': 0.1, 'pool_size': 2}. Best is trial 3 with value: 0.9925000071525574.\n"
     ]
    }
   ],
   "source": [
    "study = optuna.create_study(direction='maximize')\n",
    "study.optimize(model_function, n_trials=10)"
   ]
  },
  {
   "cell_type": "code",
   "execution_count": null,
   "metadata": {},
   "outputs": [
    {
     "name": "stdout",
     "output_type": "stream",
     "text": [
      "Trial 0:\n",
      "  - Parameters: {'num_filters': 64, 'filter_size': 3, 'stride': 2, 'padding': 'valid', 'dropout_rate': 0.1, 'pool_size': 2}\n",
      "  - Metric value: 0.9804999828338623\n",
      "\n",
      "Trial 1:\n",
      "  - Parameters: {'num_filters': 128, 'filter_size': 5, 'stride': 2, 'padding': 'same', 'dropout_rate': 0.1, 'pool_size': 3}\n",
      "  - Metric value: 0.9864000082015991\n",
      "\n",
      "Trial 2:\n",
      "  - Parameters: {'num_filters': 32, 'filter_size': 5, 'stride': 1, 'padding': 'valid', 'dropout_rate': 0.1, 'pool_size': 3}\n",
      "  - Metric value: 0.9904000163078308\n",
      "\n",
      "Trial 3:\n",
      "  - Parameters: {'num_filters': 128, 'filter_size': 5, 'stride': 1, 'padding': 'same', 'dropout_rate': 0.30000000000000004, 'pool_size': 3}\n",
      "  - Metric value: 0.9925000071525574\n",
      "\n",
      "Trial 4:\n",
      "  - Parameters: {'num_filters': 32, 'filter_size': 3, 'stride': 2, 'padding': 'same', 'dropout_rate': 0.4, 'pool_size': 3}\n",
      "  - Metric value: 0.9843999743461609\n",
      "\n",
      "Trial 5:\n",
      "  - Parameters: {'num_filters': 32, 'filter_size': 3, 'stride': 1, 'padding': 'valid', 'dropout_rate': 0.4, 'pool_size': 3}\n",
      "  - Metric value: 0.991100013256073\n",
      "\n",
      "Trial 6:\n",
      "  - Parameters: {'num_filters': 32, 'filter_size': 3, 'stride': 1, 'padding': 'valid', 'dropout_rate': 0.5, 'pool_size': 2}\n",
      "  - Metric value: 0.991599977016449\n",
      "\n",
      "Trial 7:\n",
      "  - Parameters: {'num_filters': 32, 'filter_size': 3, 'stride': 1, 'padding': 'same', 'dropout_rate': 0.4, 'pool_size': 3}\n",
      "  - Metric value: 0.9914000034332275\n",
      "\n",
      "Trial 8:\n",
      "  - Parameters: {'num_filters': 64, 'filter_size': 3, 'stride': 2, 'padding': 'valid', 'dropout_rate': 0.5, 'pool_size': 3}\n",
      "  - Metric value: 0.9642999768257141\n",
      "\n",
      "Trial 9:\n",
      "  - Parameters: {'num_filters': 64, 'filter_size': 3, 'stride': 1, 'padding': 'valid', 'dropout_rate': 0.1, 'pool_size': 2}\n",
      "  - Metric value: 0.9915000200271606\n",
      "\n"
     ]
    }
   ],
   "source": [
    "for trial in study.trials:\n",
    "    print(f\"Trial {trial.number}:\")\n",
    "    print(f\"  - Parameters: {trial.params}\")\n",
    "    print(f\"  - Metric value: {trial.value}\\n\")\n"
   ]
  }
 ],
 "metadata": {
  "kernelspec": {
   "display_name": "Python 3",
   "language": "python",
   "name": "python3"
  },
  "language_info": {
   "codemirror_mode": {
    "name": "ipython",
    "version": 3
   },
   "file_extension": ".py",
   "mimetype": "text/x-python",
   "name": "python",
   "nbconvert_exporter": "python",
   "pygments_lexer": "ipython3",
   "version": "3.12.1"
  }
 },
 "nbformat": 4,
 "nbformat_minor": 2
}
