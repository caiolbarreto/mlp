{
 "cells": [
  {
   "cell_type": "markdown",
   "metadata": {},
   "source": [
    "#Dependências"
   ]
  },
  {
   "cell_type": "code",
   "execution_count": 6,
   "metadata": {},
   "outputs": [
    {
     "name": "stderr",
     "output_type": "stream",
     "text": [
      "2024-05-21 21:47:00.942153: I tensorflow/tsl/cuda/cudart_stub.cc:28] Could not find cuda drivers on your machine, GPU will not be used.\n",
      "2024-05-21 21:47:00.988947: I tensorflow/tsl/cuda/cudart_stub.cc:28] Could not find cuda drivers on your machine, GPU will not be used.\n",
      "2024-05-21 21:47:00.989353: I tensorflow/core/platform/cpu_feature_guard.cc:182] This TensorFlow binary is optimized to use available CPU instructions in performance-critical operations.\n",
      "To enable the following instructions: AVX2 FMA, in other operations, rebuild TensorFlow with the appropriate compiler flags.\n",
      "2024-05-21 21:47:01.808473: W tensorflow/compiler/tf2tensorrt/utils/py_utils.cc:38] TF-TRT Warning: Could not find TensorRT\n"
     ]
    }
   ],
   "source": [
    "from load_mnist import load_data\n",
    "import matplotlib.pyplot as plt\n",
    "from sklearn.metrics import classification_report\n",
    "\n",
    "import numpy as np\n",
    "from sklearn.model_selection import GridSearchCV\n",
    "\n",
    "from sklearn.metrics import confusion_matrix, ConfusionMatrixDisplay\n",
    "\n",
    "import tensorflow as tf\n",
    "\n",
    "from objectivefunc import model_function, other_params_model\n",
    "import optuna"
   ]
  },
  {
   "cell_type": "markdown",
   "metadata": {},
   "source": [
    "# Modelo Inicial"
   ]
  },
  {
   "cell_type": "code",
   "execution_count": 10,
   "metadata": {},
   "outputs": [],
   "source": [
    "learning_rate = 0.001\n",
    "epochs = 5\n",
    "num_classes = 10"
   ]
  },
  {
   "cell_type": "code",
   "execution_count": 8,
   "metadata": {},
   "outputs": [],
   "source": [
    "training_data, validation_data, test_data = load_data()\n",
    "training_data = list(training_data)\n",
    "test_data = list(test_data)"
   ]
  },
  {
   "cell_type": "code",
   "execution_count": 9,
   "metadata": {},
   "outputs": [],
   "source": [
    "X_train, X_test, y_train, y_test = training_data[0], test_data[0], training_data[1], test_data[1]\n",
    "\n",
    "X_train = X_train.reshape((X_train.shape[0], 28, 28, 1))\n",
    "X_test = X_test.reshape((X_test.shape[0], 28, 28, 1))"
   ]
  },
  {
   "cell_type": "code",
   "execution_count": 13,
   "metadata": {},
   "outputs": [
    {
     "name": "stderr",
     "output_type": "stream",
     "text": [
      "/home/caio-barreto/.local/lib/python3.10/site-packages/keras/src/layers/convolutional/base_conv.py:107: UserWarning: Do not pass an `input_shape`/`input_dim` argument to a layer. When using Sequential models, prefer using an `Input(shape)` object as the first layer in the model instead.\n",
      "  super().__init__(activity_regularizer=activity_regularizer, **kwargs)\n"
     ]
    }
   ],
   "source": [
    "model = tf.keras.Sequential([\n",
    "  tf.keras.layers.Conv2D(filters=32, kernel_size=(3, 3), activation='relu', input_shape=(28, 28, 1)),\n",
    "  tf.keras.layers.MaxPooling2D(pool_size=(2, 2)),\n",
    "  tf.keras.layers.Conv2D(filters=64, kernel_size=(3, 3), activation='relu'),\n",
    "  tf.keras.layers.MaxPooling2D(pool_size=(2, 2)),\n",
    "  tf.keras.layers.Flatten(),  # Flatten the data for dense layers\n",
    "  tf.keras.layers.Dense(units=128, activation='relu'),\n",
    "  tf.keras.layers.Dense(units=num_classes, activation='softmax')  # Output layer with softmax for probabilities\n",
    "])\n",
    "\n",
    "# Compile the model\n",
    "model.compile(loss='sparse_categorical_crossentropy',\n",
    "    optimizer=tf.keras.optimizers.Adam(learning_rate=learning_rate),\n",
    "    metrics=['accuracy'])\n"
   ]
  },
  {
   "cell_type": "code",
   "execution_count": 14,
   "metadata": {},
   "outputs": [
    {
     "name": "stdout",
     "output_type": "stream",
     "text": [
      "Epoch 1/5\n",
      "\u001b[1m1563/1563\u001b[0m \u001b[32m━━━━━━━━━━━━━━━━━━━━\u001b[0m\u001b[37m\u001b[0m \u001b[1m8s\u001b[0m 5ms/step - accuracy: 0.8970 - loss: 0.3262\n",
      "Epoch 2/5\n",
      "\u001b[1m1563/1563\u001b[0m \u001b[32m━━━━━━━━━━━━━━━━━━━━\u001b[0m\u001b[37m\u001b[0m \u001b[1m7s\u001b[0m 5ms/step - accuracy: 0.9853 - loss: 0.0472\n",
      "Epoch 3/5\n",
      "\u001b[1m1563/1563\u001b[0m \u001b[32m━━━━━━━━━━━━━━━━━━━━\u001b[0m\u001b[37m\u001b[0m \u001b[1m7s\u001b[0m 5ms/step - accuracy: 0.9907 - loss: 0.0288\n",
      "Epoch 4/5\n",
      "\u001b[1m1563/1563\u001b[0m \u001b[32m━━━━━━━━━━━━━━━━━━━━\u001b[0m\u001b[37m\u001b[0m \u001b[1m7s\u001b[0m 5ms/step - accuracy: 0.9930 - loss: 0.0204\n",
      "Epoch 5/5\n",
      "\u001b[1m1563/1563\u001b[0m \u001b[32m━━━━━━━━━━━━━━━━━━━━\u001b[0m\u001b[37m\u001b[0m \u001b[1m7s\u001b[0m 5ms/step - accuracy: 0.9948 - loss: 0.0162\n"
     ]
    },
    {
     "data": {
      "text/plain": [
       "<keras.src.callbacks.history.History at 0x7f37544b1780>"
      ]
     },
     "execution_count": 14,
     "metadata": {},
     "output_type": "execute_result"
    }
   ],
   "source": [
    "model.fit(X_train, y_train, epochs=epochs)"
   ]
  },
  {
   "cell_type": "code",
   "execution_count": 15,
   "metadata": {},
   "outputs": [
    {
     "name": "stdout",
     "output_type": "stream",
     "text": [
      "\u001b[1m313/313\u001b[0m \u001b[32m━━━━━━━━━━━━━━━━━━━━\u001b[0m\u001b[37m\u001b[0m \u001b[1m1s\u001b[0m 2ms/step - accuracy: 0.9869 - loss: 0.0413\n",
      "Test Accuracy: 0.9900000095367432\n"
     ]
    }
   ],
   "source": [
    "test_loss, test_acc = model.evaluate(X_test, y_test)\n",
    "print('Test Accuracy:', test_acc)"
   ]
  },
  {
   "cell_type": "code",
   "execution_count": 16,
   "metadata": {},
   "outputs": [
    {
     "name": "stdout",
     "output_type": "stream",
     "text": [
      "\u001b[1m313/313\u001b[0m \u001b[32m━━━━━━━━━━━━━━━━━━━━\u001b[0m\u001b[37m\u001b[0m \u001b[1m1s\u001b[0m 2ms/step\n",
      "Accuracy for digit 0: 0.9929\n",
      "Accuracy for digit 1: 0.9956\n",
      "Accuracy for digit 2: 0.9913\n",
      "Accuracy for digit 3: 0.9970\n",
      "Accuracy for digit 4: 0.9919\n",
      "Accuracy for digit 5: 0.9753\n",
      "Accuracy for digit 6: 0.9927\n",
      "Accuracy for digit 7: 0.9805\n",
      "Accuracy for digit 8: 0.9877\n",
      "Accuracy for digit 9: 0.9931\n"
     ]
    }
   ],
   "source": [
    "predictions = model.predict(X_test)\n",
    "\n",
    "predicted_labels = predictions.argmax(axis=1)\n",
    "\n",
    "cm = confusion_matrix(y_test, predicted_labels)\n",
    "\n",
    "for i in range(num_classes):\n",
    "  accuracy = cm[i, i] / cm[i, :].sum()\n",
    "  print(f\"Accuracy for class {i}: {accuracy:.4f}\")"
   ]
  },
  {
   "cell_type": "code",
   "execution_count": 17,
   "metadata": {},
   "outputs": [
    {
     "name": "stdout",
     "output_type": "stream",
     "text": [
      "              precision    recall  f1-score   support\n",
      "\n",
      "           0       0.99      0.99      0.99       980\n",
      "           1       1.00      1.00      1.00      1135\n",
      "           2       0.99      0.99      0.99      1032\n",
      "           3       0.98      1.00      0.99      1010\n",
      "           4       0.99      0.99      0.99       982\n",
      "           5       1.00      0.98      0.99       892\n",
      "           6       0.99      0.99      0.99       958\n",
      "           7       1.00      0.98      0.99      1028\n",
      "           8       0.99      0.99      0.99       974\n",
      "           9       0.98      0.99      0.99      1009\n",
      "\n",
      "    accuracy                           0.99     10000\n",
      "   macro avg       0.99      0.99      0.99     10000\n",
      "weighted avg       0.99      0.99      0.99     10000\n",
      "\n"
     ]
    }
   ],
   "source": [
    "predicted_labels = predictions.argmax(axis=1)\n",
    "\n",
    "report = classification_report(y_test, predicted_labels)\n",
    "print(report)"
   ]
  },
  {
   "cell_type": "code",
   "execution_count": 18,
   "metadata": {},
   "outputs": [
    {
     "data": {
      "image/png": "[encoded data removed]",
      "text/plain": [
       "<Figure size 640x480 with 2 Axes>"
      ]
     },
     "metadata": {},
     "output_type": "display_data"
    }
   ],
   "source": [
    "disp = ConfusionMatrixDisplay(confusion_matrix=cm)\n",
    "disp.plot()\n",
    "plt.title('Matriz de Confusão - Modelo 1')\n",
    "plt.show()\n"
   ]
  },
  {
   "cell_type": "markdown",
   "metadata": {},
   "source": [
    "# Otimização de parâmetros com Optuna"
   ]
  },
  {
   "cell_type": "markdown",
   "metadata": {},
   "source": [
    "#### Estudo 1: Learning Rate, Epochs, Batch Size, No. of filters, Dense Units"
   ]
  },
  {
   "cell_type": "code",
   "execution_count": null,
   "metadata": {},
   "outputs": [
    {
     "name": "stderr",
     "output_type": "stream",
     "text": [
      "[I 2024-05-20 23:14:39,412] A new study created in memory with name: no-name-68045c57-fcb9-45a7-81b9-86ae609308b0\n",
      "[I 2024-05-20 23:16:03,898] Trial 0 finished with value: 0.9851999878883362 and parameters: {'learning_rate': 0.007949254734482034, 'epochs': 8, 'batch_size': 106, 'num_filters': 32, 'dense_units': 196}. Best is trial 0 with value: 0.9851999878883362.\n",
      "[I 2024-05-20 23:32:30,732] Trial 1 finished with value: 0.9907000064849854 and parameters: {'learning_rate': 0.0011090093878667155, 'epochs': 14, 'batch_size': 44, 'num_filters': 128, 'dense_units': 167}. Best is trial 1 with value: 0.9907000064849854.\n",
      "[I 2024-05-20 23:42:06,683] Trial 2 finished with value: 0.9901999831199646 and parameters: {'learning_rate': 0.00034388105147047066, 'epochs': 9, 'batch_size': 57, 'num_filters': 128, 'dense_units': 73}. Best is trial 1 with value: 0.9907000064849854.\n",
      "[I 2024-05-20 23:43:57,753] Trial 3 finished with value: 0.9793999791145325 and parameters: {'learning_rate': 9.426207367184762e-05, 'epochs': 5, 'batch_size': 88, 'num_filters': 64, 'dense_units': 118}. Best is trial 1 with value: 0.9907000064849854.\n",
      "[I 2024-05-20 23:45:14,343] Trial 4 finished with value: 0.9873999953269958 and parameters: {'learning_rate': 0.002818643058613451, 'epochs': 7, 'batch_size': 71, 'num_filters': 32, 'dense_units': 163}. Best is trial 1 with value: 0.9907000064849854.\n",
      "[I 2024-05-20 23:51:12,309] Trial 5 finished with value: 0.9790999889373779 and parameters: {'learning_rate': 1.9200968516406505e-05, 'epochs': 15, 'batch_size': 91, 'num_filters': 64, 'dense_units': 171}. Best is trial 1 with value: 0.9907000064849854.\n",
      "[I 2024-05-20 23:54:23,140] Trial 6 finished with value: 0.9868999719619751 and parameters: {'learning_rate': 0.009617809617115678, 'epochs': 20, 'batch_size': 87, 'num_filters': 32, 'dense_units': 108}. Best is trial 1 with value: 0.9907000064849854.\n",
      "[I 2024-05-20 23:59:34,749] Trial 7 finished with value: 0.9878000020980835 and parameters: {'learning_rate': 0.00013460820430811067, 'epochs': 13, 'batch_size': 109, 'num_filters': 64, 'dense_units': 246}. Best is trial 1 with value: 0.9907000064849854.\n",
      "[I 2024-05-21 00:11:50,152] Trial 8 finished with value: 0.9825000166893005 and parameters: {'learning_rate': 2.3669329637081025e-05, 'epochs': 11, 'batch_size': 87, 'num_filters': 128, 'dense_units': 243}. Best is trial 1 with value: 0.9907000064849854.\n",
      "[I 2024-05-21 00:15:49,578] Trial 9 finished with value: 0.9889000058174133 and parameters: {'learning_rate': 0.0012270204694292087, 'epochs': 11, 'batch_size': 97, 'num_filters': 64, 'dense_units': 138}. Best is trial 1 with value: 0.9907000064849854.\n"
     ]
    }
   ],
   "source": [
    "study = optuna.create_study(direction='maximize')\n",
    "study.optimize(other_params_model, n_trials=10)"
   ]
  },
  {
   "cell_type": "code",
   "execution_count": null,
   "metadata": {},
   "outputs": [
    {
     "name": "stdout",
     "output_type": "stream",
     "text": [
      "Trial 0:\n",
      "  - Parameters: {'learning_rate': 0.007949254734482034, 'epochs': 8, 'batch_size': 106, 'num_filters': 32, 'dense_units': 196}\n",
      "  - Metric value: 0.9851999878883362\n",
      "\n",
      "Trial 1:\n",
      "  - Parameters: {'learning_rate': 0.0011090093878667155, 'epochs': 14, 'batch_size': 44, 'num_filters': 128, 'dense_units': 167}\n",
      "  - Metric value: 0.9907000064849854\n",
      "\n",
      "Trial 2:\n",
      "  - Parameters: {'learning_rate': 0.00034388105147047066, 'epochs': 9, 'batch_size': 57, 'num_filters': 128, 'dense_units': 73}\n",
      "  - Metric value: 0.9901999831199646\n",
      "\n",
      "Trial 3:\n",
      "  - Parameters: {'learning_rate': 9.426207367184762e-05, 'epochs': 5, 'batch_size': 88, 'num_filters': 64, 'dense_units': 118}\n",
      "  - Metric value: 0.9793999791145325\n",
      "\n",
      "Trial 4:\n",
      "  - Parameters: {'learning_rate': 0.002818643058613451, 'epochs': 7, 'batch_size': 71, 'num_filters': 32, 'dense_units': 163}\n",
      "  - Metric value: 0.9873999953269958\n",
      "\n",
      "Trial 5:\n",
      "  - Parameters: {'learning_rate': 1.9200968516406505e-05, 'epochs': 15, 'batch_size': 91, 'num_filters': 64, 'dense_units': 171}\n",
      "  - Metric value: 0.9790999889373779\n",
      "\n",
      "Trial 6:\n",
      "  - Parameters: {'learning_rate': 0.009617809617115678, 'epochs': 20, 'batch_size': 87, 'num_filters': 32, 'dense_units': 108}\n",
      "  - Metric value: 0.9868999719619751\n",
      "\n",
      "Trial 7:\n",
      "  - Parameters: {'learning_rate': 0.00013460820430811067, 'epochs': 13, 'batch_size': 109, 'num_filters': 64, 'dense_units': 246}\n",
      "  - Metric value: 0.9878000020980835\n",
      "\n",
      "Trial 8:\n",
      "  - Parameters: {'learning_rate': 2.3669329637081025e-05, 'epochs': 11, 'batch_size': 87, 'num_filters': 128, 'dense_units': 243}\n",
      "  - Metric value: 0.9825000166893005\n",
      "\n",
      "Trial 9:\n",
      "  - Parameters: {'learning_rate': 0.0012270204694292087, 'epochs': 11, 'batch_size': 97, 'num_filters': 64, 'dense_units': 138}\n",
      "  - Metric value: 0.9889000058174133\n",
      "\n"
     ]
    }
   ],
   "source": [
    "for trial in study.trials:\n",
    "    print(f\"Trial {trial.number}:\")\n",
    "    print(f\"  - Parameters: {trial.params}\")\n",
    "    print(f\"  - Metric value: {trial.value}\\n\")\n"
   ]
  },
  {
   "cell_type": "code",
   "execution_count": 13,
   "metadata": {},
   "outputs": [
    {
     "name": "stdout",
     "output_type": "stream",
     "text": [
      "Epoch 1/14\n",
      "910/910 [==============================] - 85s 92ms/step - loss: 0.1331 - accuracy: 0.9579 - val_loss: 0.1241 - val_accuracy: 0.9593\n",
      "Epoch 2/14\n",
      "910/910 [==============================] - 83s 91ms/step - loss: 0.0406 - accuracy: 0.9869 - val_loss: 0.0511 - val_accuracy: 0.9835\n",
      "Epoch 3/14\n",
      "910/910 [==============================] - 83s 91ms/step - loss: 0.0262 - accuracy: 0.9920 - val_loss: 0.0537 - val_accuracy: 0.9842\n",
      "Epoch 4/14\n",
      "910/910 [==============================] - 81s 89ms/step - loss: 0.0185 - accuracy: 0.9939 - val_loss: 0.0433 - val_accuracy: 0.9873\n",
      "Epoch 5/14\n",
      "910/910 [==============================] - 78s 86ms/step - loss: 0.0137 - accuracy: 0.9955 - val_loss: 0.0699 - val_accuracy: 0.9828\n",
      "Epoch 6/14\n",
      "910/910 [==============================] - 78s 86ms/step - loss: 0.0121 - accuracy: 0.9960 - val_loss: 0.0978 - val_accuracy: 0.9780\n",
      "Epoch 7/14\n",
      "910/910 [==============================] - 80s 88ms/step - loss: 0.0105 - accuracy: 0.9968 - val_loss: 0.0539 - val_accuracy: 0.9867\n",
      "Epoch 8/14\n",
      "910/910 [==============================] - 78s 86ms/step - loss: 0.0087 - accuracy: 0.9969 - val_loss: 0.0512 - val_accuracy: 0.9878\n",
      "Epoch 9/14\n",
      "910/910 [==============================] - 78s 86ms/step - loss: 0.0068 - accuracy: 0.9979 - val_loss: 0.0516 - val_accuracy: 0.9897\n",
      "Epoch 10/14\n",
      "910/910 [==============================] - 77s 85ms/step - loss: 0.0075 - accuracy: 0.9974 - val_loss: 0.0693 - val_accuracy: 0.9859\n",
      "Epoch 11/14\n",
      "910/910 [==============================] - 79s 86ms/step - loss: 0.0056 - accuracy: 0.9981 - val_loss: 0.0540 - val_accuracy: 0.9882\n",
      "Epoch 12/14\n",
      "910/910 [==============================] - 78s 86ms/step - loss: 0.0069 - accuracy: 0.9975 - val_loss: 0.0752 - val_accuracy: 0.9859\n",
      "Epoch 13/14\n",
      "910/910 [==============================] - 86s 94ms/step - loss: 0.0045 - accuracy: 0.9983 - val_loss: 0.0668 - val_accuracy: 0.9860\n",
      "Epoch 14/14\n",
      "910/910 [==============================] - 83s 91ms/step - loss: 0.0038 - accuracy: 0.9988 - val_loss: 0.0687 - val_accuracy: 0.9886\n"
     ]
    }
   ],
   "source": [
    "params = {\n",
    "    'learning_rate': 0.0011090093878667155,\n",
    "    'epochs': 14,\n",
    "    'batch_size': 44,\n",
    "    'num_filters': 128,\n",
    "    'dense_units': 167\n",
    "}\n",
    "\n",
    "model = tf.keras.Sequential([\n",
    "        tf.keras.layers.Conv2D(filters=params['num_filters'], kernel_size=(3, 3), activation='relu', input_shape=(28, 28, 1)),\n",
    "        tf.keras.layers.MaxPooling2D(pool_size=(2, 2)),\n",
    "        tf.keras.layers.Conv2D(filters=params['num_filters'] * 2, kernel_size=(3, 3), activation='relu'),\n",
    "        tf.keras.layers.MaxPooling2D(pool_size=(2, 2)),\n",
    "        tf.keras.layers.Flatten(),\n",
    "        tf.keras.layers.Dense(units=params['dense_units'], activation='relu'),\n",
    "        tf.keras.layers.Dense(units=10, activation='softmax')\n",
    "    ])\n",
    "\n",
    "model.compile(\n",
    "    loss='sparse_categorical_crossentropy',\n",
    "    optimizer=tf.keras.optimizers.Adam(learning_rate=params['learning_rate']),\n",
    "    metrics=['accuracy']\n",
    ")\n",
    "\n",
    "history = model.fit(X_train, y_train, epochs=params['epochs'], batch_size=params['batch_size'], validation_split=0.2, verbose=1)"
   ]
  },
  {
   "cell_type": "code",
   "execution_count": null,
   "metadata": {},
   "outputs": [],
   "source": [
    "plt.plot(history.history['accuracy'], label='Train Accuracy')\n",
    "plt.plot(history.history['val_accuracy'], label='Validation Accuracy')\n",
    "plt.xlabel('Epoch')\n",
    "plt.ylabel('Accuracy')\n",
    "plt.legend(loc='lower right')\n",
    "plt.title('Training and Validation Accuracy')\n",
    "plt.show()"
   ]
  },
  {
   "cell_type": "code",
   "execution_count": 12,
   "metadata": {},
   "outputs": [
    {
     "name": "stdout",
     "output_type": "stream",
     "text": [
      "313/313 [==============================] - 4s 14ms/step\n",
      "              precision    recall  f1-score   support\n",
      "\n",
      "           0       0.99      1.00      1.00       980\n",
      "           1       1.00      0.99      0.99      1135\n",
      "           2       1.00      0.98      0.99      1032\n",
      "           3       0.99      0.99      0.99      1010\n",
      "           4       0.99      0.99      0.99       982\n",
      "           5       0.98      0.99      0.99       892\n",
      "           6       0.99      0.99      0.99       958\n",
      "           7       0.98      0.99      0.99      1028\n",
      "           8       0.99      0.99      0.99       974\n",
      "           9       0.98      0.99      0.99      1009\n",
      "\n",
      "    accuracy                           0.99     10000\n",
      "   macro avg       0.99      0.99      0.99     10000\n",
      "weighted avg       0.99      0.99      0.99     10000\n",
      "\n"
     ]
    },
    {
     "data": {
      "image/png": "[encoded data removed]",
      "text/plain": [
       "<Figure size 640x480 with 2 Axes>"
      ]
     },
     "metadata": {},
     "output_type": "display_data"
    }
   ],
   "source": [
    "y_pred = model.predict(X_test)\n",
    "y_pred_classes = np.argmax(y_pred, axis=1)\n",
    "\n",
    "# Imprimir relatório de classificação\n",
    "print(classification_report(y_test, y_pred_classes))\n",
    "\n",
    "# Matriz de confusão\n",
    "conf_matrix = confusion_matrix(y_test, y_pred_classes)\n",
    "disp = ConfusionMatrixDisplay(confusion_matrix=conf_matrix)\n",
    "disp.plot()\n",
    "plt.title('Confusion Matrix')\n",
    "plt.show()\n"
   ]
  },
  {
   "cell_type": "markdown",
   "metadata": {},
   "source": [
    "#### Estudo 2: No. of filters, Filter size, Padding, Dropout Rate, Pool size"
   ]
  },
  {
   "cell_type": "code",
   "execution_count": null,
   "metadata": {},
   "outputs": [
    {
     "name": "stderr",
     "output_type": "stream",
     "text": [
      "[I 2024-05-21 13:20:37,117] A new study created in memory with name: no-name-9fed91ce-0f71-4911-afe7-a33ab898e959\n",
      "[I 2024-05-21 13:21:36,580] Trial 0 finished with value: 0.9804999828338623 and parameters: {'num_filters': 64, 'filter_size': 3, 'stride': 2, 'padding': 'valid', 'dropout_rate': 0.1, 'pool_size': 2}. Best is trial 0 with value: 0.9804999828338623.\n",
      "[I 2024-05-21 13:28:05,435] Trial 1 finished with value: 0.9864000082015991 and parameters: {'num_filters': 128, 'filter_size': 5, 'stride': 2, 'padding': 'same', 'dropout_rate': 0.1, 'pool_size': 3}. Best is trial 1 with value: 0.9864000082015991.\n",
      "[I 2024-05-21 13:29:37,513] Trial 2 finished with value: 0.9904000163078308 and parameters: {'num_filters': 32, 'filter_size': 5, 'stride': 1, 'padding': 'valid', 'dropout_rate': 0.1, 'pool_size': 3}. Best is trial 2 with value: 0.9904000163078308.\n",
      "[I 2024-05-21 13:53:54,913] Trial 3 finished with value: 0.9925000071525574 and parameters: {'num_filters': 128, 'filter_size': 5, 'stride': 1, 'padding': 'same', 'dropout_rate': 0.30000000000000004, 'pool_size': 3}. Best is trial 3 with value: 0.9925000071525574.\n",
      "[I 2024-05-21 13:54:43,615] Trial 4 finished with value: 0.9843999743461609 and parameters: {'num_filters': 32, 'filter_size': 3, 'stride': 2, 'padding': 'same', 'dropout_rate': 0.4, 'pool_size': 3}. Best is trial 3 with value: 0.9925000071525574.\n",
      "[I 2024-05-21 13:56:27,087] Trial 5 finished with value: 0.991100013256073 and parameters: {'num_filters': 32, 'filter_size': 3, 'stride': 1, 'padding': 'valid', 'dropout_rate': 0.4, 'pool_size': 3}. Best is trial 3 with value: 0.9925000071525574.\n",
      "[I 2024-05-21 13:59:07,874] Trial 6 finished with value: 0.991599977016449 and parameters: {'num_filters': 32, 'filter_size': 3, 'stride': 1, 'padding': 'valid', 'dropout_rate': 0.5, 'pool_size': 2}. Best is trial 3 with value: 0.9925000071525574.\n",
      "[I 2024-05-21 14:01:05,455] Trial 7 finished with value: 0.9914000034332275 and parameters: {'num_filters': 32, 'filter_size': 3, 'stride': 1, 'padding': 'same', 'dropout_rate': 0.4, 'pool_size': 3}. Best is trial 3 with value: 0.9925000071525574.\n",
      "[I 2024-05-21 14:01:53,439] Trial 8 finished with value: 0.9642999768257141 and parameters: {'num_filters': 64, 'filter_size': 3, 'stride': 2, 'padding': 'valid', 'dropout_rate': 0.5, 'pool_size': 3}. Best is trial 3 with value: 0.9925000071525574.\n",
      "[I 2024-05-21 14:06:24,686] Trial 9 finished with value: 0.9915000200271606 and parameters: {'num_filters': 64, 'filter_size': 3, 'stride': 1, 'padding': 'valid', 'dropout_rate': 0.1, 'pool_size': 2}. Best is trial 3 with value: 0.9925000071525574.\n"
     ]
    }
   ],
   "source": [
    "study = optuna.create_study(direction='maximize')\n",
    "study.optimize(model_function, n_trials=10)"
   ]
  },
  {
   "cell_type": "code",
   "execution_count": null,
   "metadata": {},
   "outputs": [
    {
     "name": "stdout",
     "output_type": "stream",
     "text": [
      "Trial 0:\n",
      "  - Parameters: {'num_filters': 64, 'filter_size': 3, 'stride': 2, 'padding': 'valid', 'dropout_rate': 0.1, 'pool_size': 2}\n",
      "  - Metric value: 0.9804999828338623\n",
      "\n",
      "Trial 1:\n",
      "  - Parameters: {'num_filters': 128, 'filter_size': 5, 'stride': 2, 'padding': 'same', 'dropout_rate': 0.1, 'pool_size': 3}\n",
      "  - Metric value: 0.9864000082015991\n",
      "\n",
      "Trial 2:\n",
      "  - Parameters: {'num_filters': 32, 'filter_size': 5, 'stride': 1, 'padding': 'valid', 'dropout_rate': 0.1, 'pool_size': 3}\n",
      "  - Metric value: 0.9904000163078308\n",
      "\n",
      "Trial 3:\n",
      "  - Parameters: {'num_filters': 128, 'filter_size': 5, 'stride': 1, 'padding': 'same', 'dropout_rate': 0.30000000000000004, 'pool_size': 3}\n",
      "  - Metric value: 0.9925000071525574\n",
      "\n",
      "Trial 4:\n",
      "  - Parameters: {'num_filters': 32, 'filter_size': 3, 'stride': 2, 'padding': 'same', 'dropout_rate': 0.4, 'pool_size': 3}\n",
      "  - Metric value: 0.9843999743461609\n",
      "\n",
      "Trial 5:\n",
      "  - Parameters: {'num_filters': 32, 'filter_size': 3, 'stride': 1, 'padding': 'valid', 'dropout_rate': 0.4, 'pool_size': 3}\n",
      "  - Metric value: 0.991100013256073\n",
      "\n",
      "Trial 6:\n",
      "  - Parameters: {'num_filters': 32, 'filter_size': 3, 'stride': 1, 'padding': 'valid', 'dropout_rate': 0.5, 'pool_size': 2}\n",
      "  - Metric value: 0.991599977016449\n",
      "\n",
      "Trial 7:\n",
      "  - Parameters: {'num_filters': 32, 'filter_size': 3, 'stride': 1, 'padding': 'same', 'dropout_rate': 0.4, 'pool_size': 3}\n",
      "  - Metric value: 0.9914000034332275\n",
      "\n",
      "Trial 8:\n",
      "  - Parameters: {'num_filters': 64, 'filter_size': 3, 'stride': 2, 'padding': 'valid', 'dropout_rate': 0.5, 'pool_size': 3}\n",
      "  - Metric value: 0.9642999768257141\n",
      "\n",
      "Trial 9:\n",
      "  - Parameters: {'num_filters': 64, 'filter_size': 3, 'stride': 1, 'padding': 'valid', 'dropout_rate': 0.1, 'pool_size': 2}\n",
      "  - Metric value: 0.9915000200271606\n",
      "\n"
     ]
    }
   ],
   "source": [
    "for trial in study.trials:\n",
    "    print(f\"Trial {trial.number}:\")\n",
    "    print(f\"  - Parameters: {trial.params}\")\n",
    "    print(f\"  - Metric value: {trial.value}\\n\")\n"
   ]
  }
 ],
 "metadata": {
  "kernelspec": {
   "display_name": "Python 3",
   "language": "python",
   "name": "python3"
  },
  "language_info": {
   "codemirror_mode": {
    "name": "ipython",
    "version": 3
   },
   "file_extension": ".py",
   "mimetype": "text/x-python",
   "name": "python",
   "nbconvert_exporter": "python",
   "pygments_lexer": "ipython3",
   "version": "3.8.10"
  }
 },
 "nbformat": 4,
 "nbformat_minor": 2
}
